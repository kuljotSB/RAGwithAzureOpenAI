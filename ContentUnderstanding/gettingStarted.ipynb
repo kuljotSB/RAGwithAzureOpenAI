{
 "cells": [
  {
   "cell_type": "markdown",
   "id": "8162e723",
   "metadata": {},
   "source": [
    "## Getting Started with Azure AI Content Understanding"
   ]
  },
  {
   "cell_type": "markdown",
   "id": "b33599ed",
   "metadata": {},
   "source": [
    "![Azure AI Content Understanding](./Assets/content-understanding.png)"
   ]
  },
  {
   "cell_type": "markdown",
   "id": "a79f51da",
   "metadata": {},
   "source": [
    "%pip install python-dotenv "
   ]
  },
  {
   "cell_type": "markdown",
   "id": "4e6d90bc",
   "metadata": {},
   "source": [
    "### Setting up Environment Variables"
   ]
  },
  {
   "cell_type": "code",
   "execution_count": null,
   "id": "c356a13e",
   "metadata": {},
   "outputs": [],
   "source": [
    "import os\n",
    "from dotenv import load_dotenv\n",
    "import requests\n",
    "\n",
    "load_dotenv()\n",
    "\n",
    "CONTENT_UNDERSTANDING_ENDPOINT = os.getenv(\"CONTENT_UNDERSTANDING_ENDPOINT\")\n",
    "CONTENT_UNDERSTANDING_API_KEY = os.getenv(\"CONTENT_UNDERSTANDING_API_KEY\")\n",
    "\n",
    "headers = {\n",
    "    \"Content-Type\": \"application/json\",\n",
    "    \"Ocp-Apim-Subscription-Key\": CONTENT_UNDERSTANDING_API_KEY\n",
    "}"
   ]
  },
  {
   "cell_type": "markdown",
   "id": "5cd0b173",
   "metadata": {},
   "source": [
    "### Using Prebuilt-Document Analyzer"
   ]
  },
  {
   "cell_type": "code",
   "execution_count": null,
   "id": "80622884",
   "metadata": {},
   "outputs": [],
   "source": [
    "prebuilt_document_analyzer_url = f\"{CONTENT_UNDERSTANDING_ENDPOINT}/contentunderstanding/analyzers/prebuilt-documentAnalyzer:analyze?api-version=2025-05-01-preview\"\n",
    "\n",
    "document_url = "
   ]
  }
 ],
 "metadata": {
  "language_info": {
   "name": "python"
  }
 },
 "nbformat": 4,
 "nbformat_minor": 5
}
